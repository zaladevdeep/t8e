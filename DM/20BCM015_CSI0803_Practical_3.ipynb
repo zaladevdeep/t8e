{
 "cells": [
  {
   "cell_type": "code",
   "execution_count": 29,
   "id": "d7959a6c-bdfe-4393-89f4-55cbc2badf06",
   "metadata": {},
   "outputs": [],
   "source": [
    "import pandas as pd\n",
    "import scipy.stats as stats\n",
    "import numpy as np\n",
    "import matplotlib.pyplot as plt"
   ]
  },
  {
   "cell_type": "code",
   "execution_count": 30,
   "id": "1eb99b56-d0da-49db-9024-272ae2935aba",
   "metadata": {},
   "outputs": [],
   "source": [
    "dataset = pd.read_csv(\"human.csv\")"
   ]
  },
  {
   "cell_type": "code",
   "execution_count": 31,
   "id": "3037edbb-1d5e-4806-be7a-53aaf3b28822",
   "metadata": {},
   "outputs": [],
   "source": [
    "datamini = dataset[[\"bmi\",\"charges\"]]"
   ]
  },
  {
   "cell_type": "code",
   "execution_count": 32,
   "id": "f20809af-76ad-432e-ab7c-89a748e8e4e7",
   "metadata": {},
   "outputs": [],
   "source": [
    "zdatamini = np.abs(stats.zscore(datamini))"
   ]
  },
  {
   "cell_type": "code",
   "execution_count": 33,
   "id": "9d9f9ab6-2db8-4e31-80a0-f975c39dd6c8",
   "metadata": {},
   "outputs": [
    {
     "data": {
      "text/html": [
       "<div>\n",
       "<style scoped>\n",
       "    .dataframe tbody tr th:only-of-type {\n",
       "        vertical-align: middle;\n",
       "    }\n",
       "\n",
       "    .dataframe tbody tr th {\n",
       "        vertical-align: top;\n",
       "    }\n",
       "\n",
       "    .dataframe thead th {\n",
       "        text-align: right;\n",
       "    }\n",
       "</style>\n",
       "<table border=\"1\" class=\"dataframe\">\n",
       "  <thead>\n",
       "    <tr style=\"text-align: right;\">\n",
       "      <th></th>\n",
       "      <th>bmi</th>\n",
       "      <th>charges</th>\n",
       "    </tr>\n",
       "  </thead>\n",
       "  <tbody>\n",
       "    <tr>\n",
       "      <th>0</th>\n",
       "      <td>0.453320</td>\n",
       "      <td>0.298584</td>\n",
       "    </tr>\n",
       "    <tr>\n",
       "      <th>1</th>\n",
       "      <td>0.509621</td>\n",
       "      <td>0.953689</td>\n",
       "    </tr>\n",
       "    <tr>\n",
       "      <th>2</th>\n",
       "      <td>0.383307</td>\n",
       "      <td>0.728675</td>\n",
       "    </tr>\n",
       "    <tr>\n",
       "      <th>3</th>\n",
       "      <td>1.305531</td>\n",
       "      <td>0.719843</td>\n",
       "    </tr>\n",
       "    <tr>\n",
       "      <th>4</th>\n",
       "      <td>0.292556</td>\n",
       "      <td>0.776802</td>\n",
       "    </tr>\n",
       "    <tr>\n",
       "      <th>...</th>\n",
       "      <td>...</td>\n",
       "      <td>...</td>\n",
       "    </tr>\n",
       "    <tr>\n",
       "      <th>1333</th>\n",
       "      <td>0.050297</td>\n",
       "      <td>0.220551</td>\n",
       "    </tr>\n",
       "    <tr>\n",
       "      <th>1334</th>\n",
       "      <td>0.206139</td>\n",
       "      <td>0.914002</td>\n",
       "    </tr>\n",
       "    <tr>\n",
       "      <th>1335</th>\n",
       "      <td>1.014878</td>\n",
       "      <td>0.961596</td>\n",
       "    </tr>\n",
       "    <tr>\n",
       "      <th>1336</th>\n",
       "      <td>0.797813</td>\n",
       "      <td>0.930362</td>\n",
       "    </tr>\n",
       "    <tr>\n",
       "      <th>1337</th>\n",
       "      <td>0.261388</td>\n",
       "      <td>1.311053</td>\n",
       "    </tr>\n",
       "  </tbody>\n",
       "</table>\n",
       "<p>1338 rows × 2 columns</p>\n",
       "</div>"
      ],
      "text/plain": [
       "           bmi   charges\n",
       "0     0.453320  0.298584\n",
       "1     0.509621  0.953689\n",
       "2     0.383307  0.728675\n",
       "3     1.305531  0.719843\n",
       "4     0.292556  0.776802\n",
       "...        ...       ...\n",
       "1333  0.050297  0.220551\n",
       "1334  0.206139  0.914002\n",
       "1335  1.014878  0.961596\n",
       "1336  0.797813  0.930362\n",
       "1337  0.261388  1.311053\n",
       "\n",
       "[1338 rows x 2 columns]"
      ]
     },
     "execution_count": 33,
     "metadata": {},
     "output_type": "execute_result"
    }
   ],
   "source": [
    "zdatamini"
   ]
  },
  {
   "cell_type": "code",
   "execution_count": 34,
   "id": "98f187d2-f0ea-4fda-a592-665222eae71a",
   "metadata": {},
   "outputs": [
    {
     "data": {
      "text/plain": [
       "(1327, 2)"
      ]
     },
     "execution_count": 34,
     "metadata": {},
     "output_type": "execute_result"
    }
   ],
   "source": [
    "newdatamini_clean = datamini[(zdatamini<3).all(axis=1)]\n",
    "newdatamini_clean.shape"
   ]
  },
  {
   "cell_type": "code",
   "execution_count": 35,
   "id": "f504cbb6-8303-412e-b433-8dc5c76d9051",
   "metadata": {},
   "outputs": [],
   "source": [
    "q1 = datamini.quantile(q=.25)\n",
    "q3 = datamini.quantile(q=.75)\n",
    "IQR = datamini.apply(stats.iqr)"
   ]
  },
  {
   "cell_type": "markdown",
   "id": "7c9d7e37-d405-483f-851e-38e9e6bfcceb",
   "metadata": {},
   "source": [
    "<h2>DATA SEPARATION</h2>"
   ]
  },
  {
   "cell_type": "code",
   "execution_count": 36,
   "id": "c5b4d9fa-b1e9-4ec6-a375-226bb0650ce8",
   "metadata": {},
   "outputs": [],
   "source": [
    "newdataclean1 = datamini[~((datamini < (q1-1.5*IQR)) | (datamini > (q3+1.5*IQR))).any(axis=1)]"
   ]
  },
  {
   "cell_type": "code",
   "execution_count": 37,
   "id": "090de977-c411-4913-a231-3f508903ca9b",
   "metadata": {},
   "outputs": [],
   "source": [
    "outlier1 = datamini[((datamini < (q1-1.5*IQR)) | (datamini > (q3+1.5*IQR))).any(axis=1)]"
   ]
  },
  {
   "cell_type": "code",
   "execution_count": 38,
   "id": "4650f316-3871-4403-aa28-d4285c185b91",
   "metadata": {},
   "outputs": [
    {
     "name": "stdout",
     "output_type": "stream",
     "text": [
      "(1193, 2)\n",
      "(145, 2)\n"
     ]
    }
   ],
   "source": [
    "print(newdataclean1.shape)\n",
    "print(outlier1.shape)"
   ]
  },
  {
   "cell_type": "markdown",
   "id": "0cc9db95-1923-4886-85f5-00ecf653e5ad",
   "metadata": {},
   "source": [
    "<h2>MEDIAN</h2>"
   ]
  },
  {
   "cell_type": "code",
   "execution_count": 39,
   "id": "c541de83-229d-4002-91c1-630fa3eebd4d",
   "metadata": {},
   "outputs": [
    {
     "name": "stderr",
     "output_type": "stream",
     "text": [
      "C:\\Users\\devde\\AppData\\Local\\Temp\\ipykernel_22248\\659635260.py:1: FutureWarning: Dropping of nuisance columns in DataFrame reductions (with 'numeric_only=None') is deprecated; in a future version this will raise TypeError.  Select only valid columns before calling the reduction.\n",
      "  med = dataset.median()\n"
     ]
    },
    {
     "data": {
      "text/plain": [
       "age           39.000\n",
       "bmi           30.400\n",
       "children       1.000\n",
       "charges     9382.033\n",
       "dtype: float64"
      ]
     },
     "execution_count": 39,
     "metadata": {},
     "output_type": "execute_result"
    }
   ],
   "source": [
    "med = dataset.median()\n",
    "med"
   ]
  },
  {
   "cell_type": "markdown",
   "id": "c9d15149-7ff4-46b2-9ca9-6d40903c4bd9",
   "metadata": {},
   "source": [
    "<h2>BOX PLOTS</h2>"
   ]
  },
  {
   "cell_type": "code",
   "execution_count": 40,
   "id": "3cfda542-e690-4898-994e-285b02af5505",
   "metadata": {},
   "outputs": [
    {
     "data": {
      "image/png": "[encoded data removed]",
      "text/plain": [
       "<Figure size 640x480 with 1 Axes>"
      ]
     },
     "metadata": {},
     "output_type": "display_data"
    },
    {
     "data": {
      "image/png": "[encoded data removed]",
      "text/plain": [
       "<Figure size 640x480 with 1 Axes>"
      ]
     },
     "metadata": {},
     "output_type": "display_data"
    }
   ],
   "source": [
    "plt.boxplot(dataset[\"bmi\"])\n",
    "plt.show()\n",
    "plt.boxplot(dataset[\"charges\"])\n",
    "plt.show()"
   ]
  },
  {
   "cell_type": "markdown",
   "id": "82706729-a629-479a-ac72-0c1c8b07fe9b",
   "metadata": {},
   "source": [
    "<h2>CHANGING WITH MEDIAN</h2>"
   ]
  },
  {
   "cell_type": "code",
   "execution_count": 41,
   "id": "789111d0-9174-4334-bf91-3be58587a864",
   "metadata": {},
   "outputs": [
    {
     "name": "stdout",
     "output_type": "stream",
     "text": [
      "         bmi      charges\n",
      "14    42.130  39611.75770\n",
      "19    35.300  36837.46700\n",
      "23    31.920  37701.87680\n",
      "29    36.300  38711.00000\n",
      "30    35.600  35585.57600\n",
      "...      ...          ...\n",
      "1301  30.875  46718.16325\n",
      "1303  27.800  37829.72420\n",
      "1313  34.700  36397.57600\n",
      "1317  53.130   1163.46270\n",
      "1323  40.370  43896.37630\n",
      "\n",
      "[145 rows x 2 columns]\n",
      "age           39.000\n",
      "bmi           30.400\n",
      "children       1.000\n",
      "charges     9382.033\n",
      "dtype: float64\n"
     ]
    },
    {
     "name": "stderr",
     "output_type": "stream",
     "text": [
      "C:\\Users\\devde\\AppData\\Local\\Temp\\ipykernel_22248\\570120464.py:7: SettingWithCopyWarning: \n",
      "A value is trying to be set on a copy of a slice from a DataFrame.\n",
      "Try using .loc[row_indexer,col_indexer] = value instead\n",
      "\n",
      "See the caveats in the documentation: https://pandas.pydata.org/pandas-docs/stable/user_guide/indexing.html#returning-a-view-versus-a-copy\n",
      "  outliernew[\"bmi\"] = mednew[\"bmi\"]\n",
      "C:\\Users\\devde\\AppData\\Local\\Temp\\ipykernel_22248\\570120464.py:8: SettingWithCopyWarning: \n",
      "A value is trying to be set on a copy of a slice from a DataFrame.\n",
      "Try using .loc[row_indexer,col_indexer] = value instead\n",
      "\n",
      "See the caveats in the documentation: https://pandas.pydata.org/pandas-docs/stable/user_guide/indexing.html#returning-a-view-versus-a-copy\n",
      "  outliernew[\"charges\"] = mednew[\"charges\"]\n"
     ]
    }
   ],
   "source": [
    "outliernew = outlier1\n",
    "mednew = med\n",
    "\n",
    "print(outliernew)\n",
    "print(mednew)\n",
    "\n",
    "outliernew[\"bmi\"] = mednew[\"bmi\"]\n",
    "outliernew[\"charges\"] = mednew[\"charges\"]"
   ]
  },
  {
   "cell_type": "code",
   "execution_count": 42,
   "id": "8e31a0b7-c677-4fa6-9611-8acc63c9b174",
   "metadata": {},
   "outputs": [
    {
     "name": "stdout",
     "output_type": "stream",
     "text": [
      "       bmi   charges\n",
      "14    30.4  9382.033\n",
      "19    30.4  9382.033\n",
      "23    30.4  9382.033\n",
      "29    30.4  9382.033\n",
      "30    30.4  9382.033\n",
      "...    ...       ...\n",
      "1301  30.4  9382.033\n",
      "1303  30.4  9382.033\n",
      "1313  30.4  9382.033\n",
      "1317  30.4  9382.033\n",
      "1323  30.4  9382.033\n",
      "\n",
      "[145 rows x 2 columns]\n"
     ]
    }
   ],
   "source": [
    "print(outliernew)"
   ]
  },
  {
   "cell_type": "markdown",
   "id": "daa6f303-74cd-4136-b7dd-f84b79ff1366",
   "metadata": {},
   "source": [
    "<h1>By Devdeepsinh Zala</h1>\n",
    "<h4>20BCM015</h4>"
   ]
  }
 ],
 "metadata": {
  "kernelspec": {
   "display_name": "Python 3 (ipykernel)",
   "language": "python",
   "name": "python3"
  },
  "language_info": {
   "codemirror_mode": {
    "name": "ipython",
    "version": 3
   },
   "file_extension": ".py",
   "mimetype": "text/x-python",
   "name": "python",
   "nbconvert_exporter": "python",
   "pygments_lexer": "ipython3",
   "version": "3.9.8"
  }
 },
 "nbformat": 4,
 "nbformat_minor": 5
}
