{
 "cells": [
  {
   "cell_type": "code",
   "execution_count": 1,
   "id": "b7818694-d672-4bb0-9461-1440c2d2b0f9",
   "metadata": {},
   "outputs": [
    {
     "name": "stdout",
     "output_type": "stream",
     "text": [
      "Weights: [array([[ 0.37688288,  0.17578166],\n",
      "       [ 0.4       ,  0.1       ],\n",
      "       [-0.32311712,  0.67578166]]), array([[0.82749126],\n",
      "       [1.83021609]])]\n",
      "Layer-2 before training: [[0.4738889]]\n",
      "Layer-2 after training: [[0.99481467]]\n"
     ]
    }
   ],
   "source": [
    "import numpy as np\n",
    "def sigmoid(x):\n",
    "    return 1 / (1 + np.exp(-x))\n",
    "def sigmoid_derivative(x):\n",
    "    return x * (1 - x)\n",
    "\n",
    "inputs = np.array([[1, 0, 1]])\n",
    "outputs = np.array([[1]])\n",
    "\n",
    "num_hidden_layers = 1\n",
    "num_neurons_per_layer = 2\n",
    "\n",
    "learning_rate = 0.9\n",
    "\n",
    "weights = [np.array([[0.2,-0.3],[0.4,0.1],[-0.5,0.2]]),np.array([[-0.3],[-0.2]])]\n",
    "biases = [np.array([[-0.4,0.2]]),np.array([[0.1]])]\n",
    "\n",
    "layer_1 = sigmoid(np.dot(inputs, weights[0]) + biases[0])\n",
    "layer_2 = sigmoid(np.dot(layer_1, weights[1]) + biases[1])\n",
    "before = layer_2\n",
    "\n",
    "for i in range(10000):\n",
    "    # Forward propagation\n",
    "    layer_1 = sigmoid(np.dot(inputs, weights[0]) + biases[0])\n",
    "    layer_2 = sigmoid(np.dot(layer_1, weights[1]) + biases[1])\n",
    "    \n",
    "    # Backpropagation\n",
    "    error = outputs - layer_2\n",
    "    layer_2_delta = error * sigmoid_derivative(layer_2)\n",
    "    layer_1_error = layer_2_delta.dot(weights[1].T)\n",
    "    layer_1_delta = layer_1_error * sigmoid_derivative(layer_1)\n",
    "\n",
    "    # Update the weights and biases\n",
    "    weights[1] += layer_1.T.dot(layer_2_delta) * learning_rate\n",
    "    biases[1] += np.sum(layer_2_delta, axis=0, keepdims=True) * learning_rate\n",
    "    weights[0] += inputs.T.dot(layer_1_delta) * learning_rate\n",
    "    biases[0] += np.sum(layer_1_delta, axis=0, keepdims=True) * learning_rate\n",
    "    \n",
    "\n",
    "layer_1 = sigmoid(np.dot(inputs, weights[0]) + biases[0])\n",
    "layer_2 = sigmoid(np.dot(layer_1, weights[1]) + biases[1])\n",
    "\n",
    "print(f\"Weights: {weights}\")\n",
    "\n",
    "print(f\"Layer-2 before training: {before}\")\n",
    "print(f\"Layer-2 after training: {layer_2}\")"
   ]
  },
  {
   "cell_type": "markdown",
   "id": "26e79dfa",
   "metadata": {},
   "source": [
    "<h4>By:</h4>\n",
    "<h3>Devdeepsinh Zala [20BCM015]</h3>"
   ]
  },
  {
   "cell_type": "code",
   "execution_count": null,
   "id": "a9fa9d65",
   "metadata": {},
   "outputs": [],
   "source": []
  }
 ],
 "metadata": {
  "kernelspec": {
   "display_name": "Python 3 (ipykernel)",
   "language": "python",
   "name": "python3"
  },
  "language_info": {
   "codemirror_mode": {
    "name": "ipython",
    "version": 3
   },
   "file_extension": ".py",
   "mimetype": "text/x-python",
   "name": "python",
   "nbconvert_exporter": "python",
   "pygments_lexer": "ipython3",
   "version": "3.9.8"
  }
 },
 "nbformat": 4,
 "nbformat_minor": 5
}
