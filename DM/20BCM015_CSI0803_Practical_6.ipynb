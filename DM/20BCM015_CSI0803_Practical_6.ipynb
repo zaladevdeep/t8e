{
 "cells": [
  {
   "cell_type": "markdown",
   "id": "c99cb96f-a707-436b-8e45-8b617f127dc0",
   "metadata": {},
   "source": [
    "<h3>XOR GATE WITH NEURAL NETWORK USING BACKPROPOGATION</H3>"
   ]
  },
  {
   "cell_type": "code",
   "execution_count": 2,
   "id": "76082f58-6932-42bc-b55e-f07231a57bce",
   "metadata": {},
   "outputs": [
    {
     "name": "stdout",
     "output_type": "stream",
     "text": [
      "[[0.50018932]\n",
      " [0.49958205]\n",
      " [0.50051307]\n",
      " [0.49990063]]\n"
     ]
    }
   ],
   "source": [
    "import numpy as np\n",
    "\n",
    "def sigmoid(x):\n",
    "    return 1 / (1 + np.exp(-x))\n",
    "\n",
    "def sigmoid_derivative(x):\n",
    "    return x * (1 - x)\n",
    "\n",
    "X = np.array([[0, 0], [0, 1], [1, 0], [1, 1]])\n",
    "y = np.array([[0], [1], [1], [0]])\n",
    "\n",
    "input_neurons = 2\n",
    "output_neurons = 1\n",
    "\n",
    "hidden_neurons = 2\n",
    "\n",
    "wh = np.random.uniform(size=(input_neurons, hidden_neurons))\n",
    "wo = np.random.uniform(size=(hidden_neurons, output_neurons))\n",
    "\n",
    "learning_rate = 0.1\n",
    "\n",
    "for epoch in range(10000):\n",
    "    zh = np.dot(X, wh)\n",
    "    ah = sigmoid(zh)\n",
    "    zo = np.dot(ah, wo)\n",
    "    ao = sigmoid(zo)\n",
    "    \n",
    "    error_output = y - ao\n",
    "    derivative_output = sigmoid_derivative(ao)\n",
    "    error_hidden = np.dot(error_output * derivative_output, wo.T)\n",
    "    derivative_hidden = sigmoid_derivative(ah)\n",
    "\n",
    "    wo += np.dot(ah.T, error_output * derivative_output) * learning_rate\n",
    "    wh += np.dot(X.T, error_hidden * derivative_hidden) * learning_rate\n",
    "\n",
    "print(ao)"
   ]
  },
  {
   "cell_type": "markdown",
   "id": "90388425-cf09-462a-9363-5775cbd49ce9",
   "metadata": {},
   "source": [
    "<h3>By:</h3>\n",
    "<h4>Devdeepsinh Zala<br><br>20BCM015</h4>"
   ]
  }
 ],
 "metadata": {
  "kernelspec": {
   "display_name": "Python 3 (ipykernel)",
   "language": "python",
   "name": "python3"
  },
  "language_info": {
   "codemirror_mode": {
    "name": "ipython",
    "version": 3
   },
   "file_extension": ".py",
   "mimetype": "text/x-python",
   "name": "python",
   "nbconvert_exporter": "python",
   "pygments_lexer": "ipython3",
   "version": "3.9.8"
  }
 },
 "nbformat": 4,
 "nbformat_minor": 5
}
