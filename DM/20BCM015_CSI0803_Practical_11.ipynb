{
 "cells": [
  {
   "cell_type": "code",
   "execution_count": 3,
   "id": "319b32fd-d2a0-409b-9036-b0c653646449",
   "metadata": {},
   "outputs": [
    {
     "name": "stdout",
     "output_type": "stream",
     "text": [
      "[0 0 1 0 0 1]\n",
      "a\n",
      "[[2 3]\n",
      " [2 0]]\n"
     ]
    }
   ],
   "source": [
    "import numpy as np\n",
    "\n",
    "# data points\n",
    "X = np.array([[1, 2], [1, 4], [1, 0],\n",
    "              [4, 2], [4, 4], [4, 0]])\n",
    "\n",
    "# number of clusters\n",
    "k = 2\n",
    "\n",
    "# randomly select k data points as initial centroids\n",
    "centroids = X[np.random.choice(X.shape[0], k, replace=False)]\n",
    "\n",
    "while True:\n",
    "    # calculate distances between each data point and the centroids\n",
    "    distances = np.array([np.linalg.norm(X - centroid, axis=1) for centroid in centroids])\n",
    "\n",
    "    # assign each data point to the cluster of the nearest centroid\n",
    "    clusters = np.argmin(distances, axis=0)\n",
    "\n",
    "    # store the previous centroids\n",
    "    prev_centroids = np.copy(centroids)\n",
    "\n",
    "    # recalculate the centroid of each cluster by taking the mean of all the data points in the cluster\n",
    "    for i in range(k):\n",
    "        centroids[i] = np.mean(X[clusters == i], axis=0)\n",
    "\n",
    "    # check if the centroids have changed\n",
    "    if np.all(prev_centroids == centroids):\n",
    "        break\n",
    "        \n",
    "# cluster labels\n",
    "labels = clusters\n",
    "\n",
    "print(labels)\n",
    "print(centroids)"
   ]
  },
  {
   "cell_type": "code",
   "execution_count": null,
   "id": "68873810-8d1e-4ad5-9d54-54d80a8502d9",
   "metadata": {},
   "outputs": [],
   "source": []
  }
 ],
 "metadata": {
  "kernelspec": {
   "display_name": "Python 3 (ipykernel)",
   "language": "python",
   "name": "python3"
  },
  "language_info": {
   "codemirror_mode": {
    "name": "ipython",
    "version": 3
   },
   "file_extension": ".py",
   "mimetype": "text/x-python",
   "name": "python",
   "nbconvert_exporter": "python",
   "pygments_lexer": "ipython3",
   "version": "3.9.8"
  }
 },
 "nbformat": 4,
 "nbformat_minor": 5
}
