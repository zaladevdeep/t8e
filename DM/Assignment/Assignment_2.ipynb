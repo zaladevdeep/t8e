{
 "cells": [
  {
   "cell_type": "code",
   "execution_count": 8,
   "id": "3fad00f9-b32c-48bd-8045-901980a4f700",
   "metadata": {},
   "outputs": [],
   "source": [
    "import numpy as np \n",
    "import pandas as pd \n",
    "import seaborn as sns\n",
    "import matplotlib.pyplot as plt\n",
    "%matplotlib inline\n",
    "\n",
    "# import plotly.offline as py\n",
    "# py.init_notebook_mode(connected=True)\n",
    "# import plotly.graph_objs as go\n",
    "sns.set()\n",
    "\n",
    "from PIL import Image\n",
    "# from wordcloud import WordCloud, STOPWORDS, ImageColorGenerator\n",
    "\n",
    "import os\n",
    "# print(os.listdir(\"../input\"))\n",
    "\n",
    "\n",
    "from sklearn.preprocessing import StandardScaler, MinMaxScaler\n",
    "from sklearn.mixture import GaussianMixture\n",
    "from sklearn.model_selection import train_test_split\n",
    "\n",
    "from scipy.stats import boxcox\n",
    "\n",
    "import warnings\n",
    "warnings.filterwarnings(\"ignore\", category=DeprecationWarning)\n",
    "warnings.filterwarnings(\"ignore\", category=FutureWarning)\n",
    "warnings.filterwarnings(\"ignore\", category=UserWarning)"
   ]
  },
  {
   "cell_type": "code",
   "execution_count": 13,
   "id": "cd8677cf-2244-4567-bbfa-95d1a7c90e5c",
   "metadata": {},
   "outputs": [],
   "source": [
    "class TransformParameter:\n",
    " \n",
    "    def __init__(self, const, lam, color=\"Dodgerblue\"):\n",
    "        self.const = const\n",
    "        self.lam = lam\n",
    "        self.color = color"
   ]
  },
  {
   "cell_type": "code",
   "execution_count": 21,
   "id": "12fd4cd3-fe1b-44fb-8c55-6c2fa8bea4f9",
   "metadata": {},
   "outputs": [],
   "source": [
    "constants = {\"carbohydrates_100g\": TransformParameter(const=0.01, lam=0.9, color=\"Green\"),\n",
    "            \"fat_100g\" : TransformParameter(const=0.1, lam=0.05, color=\"orange\"),\n",
    "            \"proteins_100g\": TransformParameter(const=0.1, lam=0.1, color=\"Red\"),\n",
    "             \"sugars_100g\" : TransformParameter(const=0.07, lam=0.03, color=\"Fuchsia\"),\n",
    "            \"other_carbs\" : TransformParameter(const=0.05, lam=0.3, color=\"maroon\"),\n",
    "            \"salt_100g\" : TransformParameter(const=0.01, lam=0.005, color=\"Dodgerblue\"),\n",
    "            \"energy_100g\" : TransformParameter(const=0.3, lam=0.7, color=\"Purple\"),\n",
    "            \"reconstructed_energy\" : TransformParameter(const=0.3, lam=0.7, color=\"mediumvioletred\"),\n",
    "            \"g_sum\": TransformParameter(const=0.1, lam=1.2, color=\"turquoise\")}"
   ]
  },
  {
   "cell_type": "code",
   "execution_count": 22,
   "id": "3b29a87f-a3d3-499c-89aa-22d4d2066bf8",
   "metadata": {},
   "outputs": [
    {
     "ename": "NameError",
     "evalue": "name 'nutrition_table' is not defined",
     "output_type": "error",
     "traceback": [
      "\u001b[1;31m---------------------------------------------------------------------------\u001b[0m",
      "\u001b[1;31mNameError\u001b[0m                                 Traceback (most recent call last)",
      "Cell \u001b[1;32mIn [22], line 10\u001b[0m\n\u001b[0;32m      7\u001b[0m     \u001b[38;5;28;01mreturn\u001b[39;00m data\n\u001b[0;32m      9\u001b[0m \u001b[38;5;28;01mfor\u001b[39;00m key \u001b[38;5;129;01min\u001b[39;00m constants\u001b[38;5;241m.\u001b[39mkeys():\n\u001b[1;32m---> 10\u001b[0m     transform(data\u001b[38;5;241m=\u001b[39m\u001b[43mnutrition_table\u001b[49m,\n\u001b[0;32m     11\u001b[0m               feature\u001b[38;5;241m=\u001b[39mkey,\n\u001b[0;32m     12\u001b[0m               constant\u001b[38;5;241m=\u001b[39mconstants[key]\u001b[38;5;241m.\u001b[39mconst,\n\u001b[0;32m     13\u001b[0m               lam\u001b[38;5;241m=\u001b[39mconstants[key]\u001b[38;5;241m.\u001b[39mlam)\n\u001b[0;32m     16\u001b[0m fig, ax \u001b[38;5;241m=\u001b[39m plt\u001b[38;5;241m.\u001b[39msubplots(\u001b[38;5;241m9\u001b[39m,\u001b[38;5;241m3\u001b[39m,figsize\u001b[38;5;241m=\u001b[39m(\u001b[38;5;241m25\u001b[39m,\u001b[38;5;241m40\u001b[39m))\n\u001b[0;32m     17\u001b[0m n \u001b[38;5;241m=\u001b[39m \u001b[38;5;241m0\u001b[39m\n",
      "\u001b[1;31mNameError\u001b[0m: name 'nutrition_table' is not defined"
     ]
    }
   ],
   "source": [
    "def transform(data, feature, constant, lam):\n",
    "    scaler = MinMaxScaler((0,5))\n",
    "    scaled_feature = scaler.fit_transform(data[feature].values.copy().reshape(-1,1))\n",
    "    data[\"boxcox_\" + feature] = boxcox(scaled_feature + constant, lam)\n",
    "    scaler = StandardScaler()\n",
    "    data[\"transformed_\" + feature] = scaler.fit_transform(data[\"boxcox_\" + feature].values.reshape(-1,1))\n",
    "    return data\n",
    "\n",
    "for key in constants.keys():\n",
    "    transform(data=nutrition_table,\n",
    "              feature=key,\n",
    "              constant=constants[key].const,\n",
    "              lam=constants[key].lam)\n",
    "\n",
    "\n",
    "fig, ax = plt.subplots(9,3,figsize=(25,40))\n",
    "n = 0\n",
    "for feature in constants.keys():\n",
    "    sns.distplot(nutrition_table[feature],\n",
    "                 ax=ax[n,0],\n",
    "                 color=constants[feature].color)\n",
    "    sns.distplot(nutrition_table[nutrition_table[feature]>0][\"boxcox_\" + feature],\n",
    "                 ax=ax[n,1],\n",
    "                 color=constants[feature].color)\n",
    "    sns.distplot(nutrition_table[\"transformed_\" + feature],\n",
    "                 ax=ax[n,2],\n",
    "                 color=constants[feature].color)\n",
    "    n+=1"
   ]
  },
  {
   "cell_type": "code",
   "execution_count": null,
   "id": "29a35e32-dbb0-4e25-910f-747cc8ba0a20",
   "metadata": {},
   "outputs": [],
   "source": []
  }
 ],
 "metadata": {
  "kernelspec": {
   "display_name": "Python 3 (ipykernel)",
   "language": "python",
   "name": "python3"
  },
  "language_info": {
   "codemirror_mode": {
    "name": "ipython",
    "version": 3
   },
   "file_extension": ".py",
   "mimetype": "text/x-python",
   "name": "python",
   "nbconvert_exporter": "python",
   "pygments_lexer": "ipython3",
   "version": "3.9.8"
  }
 },
 "nbformat": 4,
 "nbformat_minor": 5
}
