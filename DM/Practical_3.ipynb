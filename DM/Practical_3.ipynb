{
 "cells": [
  {
   "cell_type": "code",
   "execution_count": 1,
   "id": "6293855b-c306-44a6-8a70-91d67b2fbedf",
   "metadata": {},
   "outputs": [],
   "source": [
    "import pandas as pd\n",
    "import scipy.stats as stats\n",
    "import numpy as np\n",
    "import matplotlib.pyplot as plt"
   ]
  },
  {
   "cell_type": "code",
   "execution_count": 2,
   "id": "af8c5715-ff26-4b20-bea7-57607a58ddab",
   "metadata": {},
   "outputs": [],
   "source": [
    "df = pd.read_csv('prac_3.csv')"
   ]
  },
  {
   "cell_type": "code",
   "execution_count": 3,
   "id": "d307e964-43a1-430f-a002-54948cd572f4",
   "metadata": {},
   "outputs": [
    {
     "data": {
      "text/html": [
       "<div>\n",
       "<style scoped>\n",
       "    .dataframe tbody tr th:only-of-type {\n",
       "        vertical-align: middle;\n",
       "    }\n",
       "\n",
       "    .dataframe tbody tr th {\n",
       "        vertical-align: top;\n",
       "    }\n",
       "\n",
       "    .dataframe thead th {\n",
       "        text-align: right;\n",
       "    }\n",
       "</style>\n",
       "<table border=\"1\" class=\"dataframe\">\n",
       "  <thead>\n",
       "    <tr style=\"text-align: right;\">\n",
       "      <th></th>\n",
       "      <th>age</th>\n",
       "      <th>sex</th>\n",
       "      <th>bmi</th>\n",
       "      <th>children</th>\n",
       "      <th>smoker</th>\n",
       "      <th>region</th>\n",
       "      <th>charges</th>\n",
       "    </tr>\n",
       "  </thead>\n",
       "  <tbody>\n",
       "    <tr>\n",
       "      <th>0</th>\n",
       "      <td>19</td>\n",
       "      <td>female</td>\n",
       "      <td>27.900</td>\n",
       "      <td>0</td>\n",
       "      <td>yes</td>\n",
       "      <td>southwest</td>\n",
       "      <td>16884.92400</td>\n",
       "    </tr>\n",
       "    <tr>\n",
       "      <th>1</th>\n",
       "      <td>18</td>\n",
       "      <td>male</td>\n",
       "      <td>33.770</td>\n",
       "      <td>1</td>\n",
       "      <td>no</td>\n",
       "      <td>southeast</td>\n",
       "      <td>1725.55230</td>\n",
       "    </tr>\n",
       "    <tr>\n",
       "      <th>2</th>\n",
       "      <td>28</td>\n",
       "      <td>male</td>\n",
       "      <td>33.000</td>\n",
       "      <td>3</td>\n",
       "      <td>no</td>\n",
       "      <td>southeast</td>\n",
       "      <td>4449.46200</td>\n",
       "    </tr>\n",
       "    <tr>\n",
       "      <th>3</th>\n",
       "      <td>33</td>\n",
       "      <td>male</td>\n",
       "      <td>22.705</td>\n",
       "      <td>0</td>\n",
       "      <td>no</td>\n",
       "      <td>northwest</td>\n",
       "      <td>21984.47061</td>\n",
       "    </tr>\n",
       "    <tr>\n",
       "      <th>4</th>\n",
       "      <td>32</td>\n",
       "      <td>male</td>\n",
       "      <td>28.880</td>\n",
       "      <td>0</td>\n",
       "      <td>no</td>\n",
       "      <td>northwest</td>\n",
       "      <td>3866.85520</td>\n",
       "    </tr>\n",
       "    <tr>\n",
       "      <th>...</th>\n",
       "      <td>...</td>\n",
       "      <td>...</td>\n",
       "      <td>...</td>\n",
       "      <td>...</td>\n",
       "      <td>...</td>\n",
       "      <td>...</td>\n",
       "      <td>...</td>\n",
       "    </tr>\n",
       "    <tr>\n",
       "      <th>1333</th>\n",
       "      <td>50</td>\n",
       "      <td>male</td>\n",
       "      <td>30.970</td>\n",
       "      <td>3</td>\n",
       "      <td>no</td>\n",
       "      <td>northwest</td>\n",
       "      <td>10600.54830</td>\n",
       "    </tr>\n",
       "    <tr>\n",
       "      <th>1334</th>\n",
       "      <td>18</td>\n",
       "      <td>female</td>\n",
       "      <td>31.920</td>\n",
       "      <td>0</td>\n",
       "      <td>no</td>\n",
       "      <td>northeast</td>\n",
       "      <td>2205.98080</td>\n",
       "    </tr>\n",
       "    <tr>\n",
       "      <th>1335</th>\n",
       "      <td>18</td>\n",
       "      <td>female</td>\n",
       "      <td>36.850</td>\n",
       "      <td>0</td>\n",
       "      <td>no</td>\n",
       "      <td>southeast</td>\n",
       "      <td>1629.83350</td>\n",
       "    </tr>\n",
       "    <tr>\n",
       "      <th>1336</th>\n",
       "      <td>21</td>\n",
       "      <td>female</td>\n",
       "      <td>25.800</td>\n",
       "      <td>0</td>\n",
       "      <td>no</td>\n",
       "      <td>southwest</td>\n",
       "      <td>2007.94500</td>\n",
       "    </tr>\n",
       "    <tr>\n",
       "      <th>1337</th>\n",
       "      <td>61</td>\n",
       "      <td>female</td>\n",
       "      <td>29.070</td>\n",
       "      <td>0</td>\n",
       "      <td>yes</td>\n",
       "      <td>northwest</td>\n",
       "      <td>29141.36030</td>\n",
       "    </tr>\n",
       "  </tbody>\n",
       "</table>\n",
       "<p>1338 rows × 7 columns</p>\n",
       "</div>"
      ],
      "text/plain": [
       "      age     sex     bmi  children smoker     region      charges\n",
       "0      19  female  27.900         0    yes  southwest  16884.92400\n",
       "1      18    male  33.770         1     no  southeast   1725.55230\n",
       "2      28    male  33.000         3     no  southeast   4449.46200\n",
       "3      33    male  22.705         0     no  northwest  21984.47061\n",
       "4      32    male  28.880         0     no  northwest   3866.85520\n",
       "...   ...     ...     ...       ...    ...        ...          ...\n",
       "1333   50    male  30.970         3     no  northwest  10600.54830\n",
       "1334   18  female  31.920         0     no  northeast   2205.98080\n",
       "1335   18  female  36.850         0     no  southeast   1629.83350\n",
       "1336   21  female  25.800         0     no  southwest   2007.94500\n",
       "1337   61  female  29.070         0    yes  northwest  29141.36030\n",
       "\n",
       "[1338 rows x 7 columns]"
      ]
     },
     "execution_count": 3,
     "metadata": {},
     "output_type": "execute_result"
    }
   ],
   "source": [
    "df"
   ]
  },
  {
   "cell_type": "code",
   "execution_count": 4,
   "id": "b32690e0-c66a-4f2b-b598-a92313b975e7",
   "metadata": {},
   "outputs": [],
   "source": [
    "zdf = df[['bmi','charges']]"
   ]
  },
  {
   "cell_type": "code",
   "execution_count": 5,
   "id": "72b7c1e3-759a-45bb-ad8e-3225cc889e9e",
   "metadata": {},
   "outputs": [],
   "source": [
    "z = np.abs(stats.zscore(zdf))"
   ]
  },
  {
   "cell_type": "code",
   "execution_count": 109,
   "id": "702738c5-b3b5-49fa-aea2-a958b632580e",
   "metadata": {},
   "outputs": [
    {
     "data": {
      "text/html": [
       "<div>\n",
       "<style scoped>\n",
       "    .dataframe tbody tr th:only-of-type {\n",
       "        vertical-align: middle;\n",
       "    }\n",
       "\n",
       "    .dataframe tbody tr th {\n",
       "        vertical-align: top;\n",
       "    }\n",
       "\n",
       "    .dataframe thead th {\n",
       "        text-align: right;\n",
       "    }\n",
       "</style>\n",
       "<table border=\"1\" class=\"dataframe\">\n",
       "  <thead>\n",
       "    <tr style=\"text-align: right;\">\n",
       "      <th></th>\n",
       "      <th>bmi</th>\n",
       "      <th>charges</th>\n",
       "    </tr>\n",
       "  </thead>\n",
       "  <tbody>\n",
       "    <tr>\n",
       "      <th>0</th>\n",
       "      <td>0.453320</td>\n",
       "      <td>0.298584</td>\n",
       "    </tr>\n",
       "    <tr>\n",
       "      <th>1</th>\n",
       "      <td>0.509621</td>\n",
       "      <td>0.953689</td>\n",
       "    </tr>\n",
       "    <tr>\n",
       "      <th>2</th>\n",
       "      <td>0.383307</td>\n",
       "      <td>0.728675</td>\n",
       "    </tr>\n",
       "    <tr>\n",
       "      <th>3</th>\n",
       "      <td>1.305531</td>\n",
       "      <td>0.719843</td>\n",
       "    </tr>\n",
       "    <tr>\n",
       "      <th>4</th>\n",
       "      <td>0.292556</td>\n",
       "      <td>0.776802</td>\n",
       "    </tr>\n",
       "    <tr>\n",
       "      <th>...</th>\n",
       "      <td>...</td>\n",
       "      <td>...</td>\n",
       "    </tr>\n",
       "    <tr>\n",
       "      <th>1333</th>\n",
       "      <td>0.050297</td>\n",
       "      <td>0.220551</td>\n",
       "    </tr>\n",
       "    <tr>\n",
       "      <th>1334</th>\n",
       "      <td>0.206139</td>\n",
       "      <td>0.914002</td>\n",
       "    </tr>\n",
       "    <tr>\n",
       "      <th>1335</th>\n",
       "      <td>1.014878</td>\n",
       "      <td>0.961596</td>\n",
       "    </tr>\n",
       "    <tr>\n",
       "      <th>1336</th>\n",
       "      <td>0.797813</td>\n",
       "      <td>0.930362</td>\n",
       "    </tr>\n",
       "    <tr>\n",
       "      <th>1337</th>\n",
       "      <td>0.261388</td>\n",
       "      <td>1.311053</td>\n",
       "    </tr>\n",
       "  </tbody>\n",
       "</table>\n",
       "<p>1338 rows × 2 columns</p>\n",
       "</div>"
      ],
      "text/plain": [
       "           bmi   charges\n",
       "0     0.453320  0.298584\n",
       "1     0.509621  0.953689\n",
       "2     0.383307  0.728675\n",
       "3     1.305531  0.719843\n",
       "4     0.292556  0.776802\n",
       "...        ...       ...\n",
       "1333  0.050297  0.220551\n",
       "1334  0.206139  0.914002\n",
       "1335  1.014878  0.961596\n",
       "1336  0.797813  0.930362\n",
       "1337  0.261388  1.311053\n",
       "\n",
       "[1338 rows x 2 columns]"
      ]
     },
     "execution_count": 109,
     "metadata": {},
     "output_type": "execute_result"
    }
   ],
   "source": [
    "z"
   ]
  },
  {
   "cell_type": "code",
   "execution_count": 110,
   "id": "3ffc19b5-0e83-4586-a86e-38f7f252d866",
   "metadata": {},
   "outputs": [],
   "source": [
    "data_clean = zdf[(z<3).all(axis=1)]"
   ]
  },
  {
   "cell_type": "code",
   "execution_count": 111,
   "id": "4e8f31b7-7b33-46ed-9847-0cf9a2953ae5",
   "metadata": {},
   "outputs": [
    {
     "data": {
      "text/plain": [
       "(1327, 2)"
      ]
     },
     "execution_count": 111,
     "metadata": {},
     "output_type": "execute_result"
    }
   ],
   "source": [
    "data_clean.shape"
   ]
  },
  {
   "cell_type": "code",
   "execution_count": 112,
   "id": "b3ae8d55-fec4-4219-9da6-380383bd3659",
   "metadata": {},
   "outputs": [],
   "source": [
    "Q1 = zdf.quantile(q=.25)\n",
    "Q3 = zdf.quantile(q=.75)\n",
    "IQR = zdf.apply(stats.iqr)"
   ]
  },
  {
   "cell_type": "markdown",
   "id": "71b2e892-47ee-4d0a-974a-08ac45b18c6f",
   "metadata": {},
   "source": [
    "<h2> Data Seperation </h2>"
   ]
  },
  {
   "cell_type": "code",
   "execution_count": 113,
   "id": "efeba5e1-a09a-466f-825f-6d569dd5833f",
   "metadata": {},
   "outputs": [],
   "source": [
    "data_clean2 = zdf[~((zdf < (Q1-1.5*IQR)) | (zdf > (Q3+1.5*IQR))).any(axis=1)]"
   ]
  },
  {
   "cell_type": "code",
   "execution_count": 114,
   "id": "0ef805cb-1ae1-49c6-8275-0178398c1f12",
   "metadata": {},
   "outputs": [],
   "source": [
    "outlier = zdf[((zdf < (Q1-1.5*IQR)) | (zdf > (Q3+1.5*IQR))).any(axis=1)]"
   ]
  },
  {
   "cell_type": "code",
   "execution_count": 115,
   "id": "d97ed6af-b22e-4ee1-acb4-b7cb980e3a22",
   "metadata": {},
   "outputs": [
    {
     "data": {
      "text/plain": [
       "(1193, 2)"
      ]
     },
     "execution_count": 115,
     "metadata": {},
     "output_type": "execute_result"
    }
   ],
   "source": [
    "data_clean2.shape"
   ]
  },
  {
   "cell_type": "code",
   "execution_count": 116,
   "id": "9be79c5f-70e7-401a-933d-dd5fa8ae5615",
   "metadata": {},
   "outputs": [
    {
     "data": {
      "text/plain": [
       "(145, 2)"
      ]
     },
     "execution_count": 116,
     "metadata": {},
     "output_type": "execute_result"
    }
   ],
   "source": [
    "outlier.shape"
   ]
  },
  {
   "cell_type": "markdown",
   "id": "f65eda71-d459-4823-b92e-0ad708f8b363",
   "metadata": {},
   "source": [
    "<h2> Median Calculation </h2>"
   ]
  },
  {
   "cell_type": "code",
   "execution_count": 117,
   "id": "ecc0cb88-c240-465c-9a50-f02e47eed7b2",
   "metadata": {},
   "outputs": [
    {
     "name": "stderr",
     "output_type": "stream",
     "text": [
      "C:\\Users\\RA ELE\\AppData\\Local\\Temp\\ipykernel_13808\\1103551601.py:1: FutureWarning: Dropping of nuisance columns in DataFrame reductions (with 'numeric_only=None') is deprecated; in a future version this will raise TypeError.  Select only valid columns before calling the reduction.\n",
      "  median = df.median()\n"
     ]
    }
   ],
   "source": [
    "median = df.median()"
   ]
  },
  {
   "cell_type": "code",
   "execution_count": 118,
   "id": "2b4dfdde-7438-46ba-841d-3da1c8cb87a4",
   "metadata": {},
   "outputs": [
    {
     "data": {
      "text/plain": [
       "age           39.000\n",
       "bmi           30.400\n",
       "children       1.000\n",
       "charges     9382.033\n",
       "dtype: float64"
      ]
     },
     "execution_count": 118,
     "metadata": {},
     "output_type": "execute_result"
    }
   ],
   "source": [
    "median"
   ]
  },
  {
   "cell_type": "markdown",
   "id": "4dbb517d-88b3-430a-aafd-78fbf584754b",
   "metadata": {},
   "source": [
    "<h2> BoxPlots </h2>"
   ]
  },
  {
   "cell_type": "code",
   "execution_count": 119,
   "id": "7ad8f9d2-9c54-4a8a-9d38-210e4baeb8ed",
   "metadata": {},
   "outputs": [
    {
     "data": {
      "text/plain": [
       "{'whiskers': [<matplotlib.lines.Line2D at 0x28fa77069d0>,\n",
       "  <matplotlib.lines.Line2D at 0x28fa7706ca0>],\n",
       " 'caps': [<matplotlib.lines.Line2D at 0x28fa7706f70>,\n",
       "  <matplotlib.lines.Line2D at 0x28fa7713280>],\n",
       " 'boxes': [<matplotlib.lines.Line2D at 0x28fa7706760>],\n",
       " 'medians': [<matplotlib.lines.Line2D at 0x28fa7713550>],\n",
       " 'fliers': [<matplotlib.lines.Line2D at 0x28fa7713820>],\n",
       " 'means': []}"
      ]
     },
     "execution_count": 119,
     "metadata": {},
     "output_type": "execute_result"
    },
    {
     "data": {
      "image/png": "[encoded data removed]",
      "text/plain": [
       "<Figure size 432x288 with 1 Axes>"
      ]
     },
     "metadata": {
      "needs_background": "light"
     },
     "output_type": "display_data"
    }
   ],
   "source": [
    "plt.boxplot(df['bmi'])"
   ]
  },
  {
   "cell_type": "code",
   "execution_count": 120,
   "id": "694e87d0-5317-4885-9f0d-d2da7496f74a",
   "metadata": {},
   "outputs": [
    {
     "data": {
      "text/plain": [
       "{'whiskers': [<matplotlib.lines.Line2D at 0x28fa77482e0>,\n",
       "  <matplotlib.lines.Line2D at 0x28fa77485b0>],\n",
       " 'caps': [<matplotlib.lines.Line2D at 0x28fa7748880>,\n",
       "  <matplotlib.lines.Line2D at 0x28fa7748b50>],\n",
       " 'boxes': [<matplotlib.lines.Line2D at 0x28fa7748130>],\n",
       " 'medians': [<matplotlib.lines.Line2D at 0x28fa7748e20>],\n",
       " 'fliers': [<matplotlib.lines.Line2D at 0x28fa7751130>],\n",
       " 'means': []}"
      ]
     },
     "execution_count": 120,
     "metadata": {},
     "output_type": "execute_result"
    },
    {
     "data": {
      "image/png": "[encoded data removed]",
      "text/plain": [
       "<Figure size 432x288 with 1 Axes>"
      ]
     },
     "metadata": {
      "needs_background": "light"
     },
     "output_type": "display_data"
    }
   ],
   "source": [
    "plt.boxplot(df['charges'])"
   ]
  },
  {
   "cell_type": "markdown",
   "id": "46d90a47-8ed8-4154-9d2c-8a45745d3949",
   "metadata": {},
   "source": [
    "<h1> Replacing with Median </h1>"
   ]
  },
  {
   "cell_type": "code",
   "execution_count": 156,
   "id": "b728e93f-4846-494f-888b-78c00b3797d0",
   "metadata": {},
   "outputs": [],
   "source": [
    "outlier = zdf[((zdf < (Q1-1.5*IQR)) | (zdf > (Q3+1.5*IQR))).any(axis=1)]"
   ]
  },
  {
   "cell_type": "code",
   "execution_count": 157,
   "id": "aff75ccb-5d18-4d8b-b11d-3626a645ba45",
   "metadata": {},
   "outputs": [
    {
     "name": "stderr",
     "output_type": "stream",
     "text": [
      "C:\\Users\\RA ELE\\AppData\\Local\\Temp\\ipykernel_13808\\1103551601.py:1: FutureWarning: Dropping of nuisance columns in DataFrame reductions (with 'numeric_only=None') is deprecated; in a future version this will raise TypeError.  Select only valid columns before calling the reduction.\n",
      "  median = df.median()\n"
     ]
    }
   ],
   "source": [
    "median = df.median()"
   ]
  },
  {
   "cell_type": "code",
   "execution_count": 158,
   "id": "562aecd9-41c3-4bc7-a855-fe64ec594f82",
   "metadata": {},
   "outputs": [
    {
     "data": {
      "text/html": [
       "<div>\n",
       "<style scoped>\n",
       "    .dataframe tbody tr th:only-of-type {\n",
       "        vertical-align: middle;\n",
       "    }\n",
       "\n",
       "    .dataframe tbody tr th {\n",
       "        vertical-align: top;\n",
       "    }\n",
       "\n",
       "    .dataframe thead th {\n",
       "        text-align: right;\n",
       "    }\n",
       "</style>\n",
       "<table border=\"1\" class=\"dataframe\">\n",
       "  <thead>\n",
       "    <tr style=\"text-align: right;\">\n",
       "      <th></th>\n",
       "      <th>bmi</th>\n",
       "      <th>charges</th>\n",
       "    </tr>\n",
       "  </thead>\n",
       "  <tbody>\n",
       "    <tr>\n",
       "      <th>14</th>\n",
       "      <td>42.130</td>\n",
       "      <td>39611.75770</td>\n",
       "    </tr>\n",
       "    <tr>\n",
       "      <th>19</th>\n",
       "      <td>35.300</td>\n",
       "      <td>36837.46700</td>\n",
       "    </tr>\n",
       "    <tr>\n",
       "      <th>23</th>\n",
       "      <td>31.920</td>\n",
       "      <td>37701.87680</td>\n",
       "    </tr>\n",
       "    <tr>\n",
       "      <th>29</th>\n",
       "      <td>36.300</td>\n",
       "      <td>38711.00000</td>\n",
       "    </tr>\n",
       "    <tr>\n",
       "      <th>30</th>\n",
       "      <td>35.600</td>\n",
       "      <td>35585.57600</td>\n",
       "    </tr>\n",
       "    <tr>\n",
       "      <th>...</th>\n",
       "      <td>...</td>\n",
       "      <td>...</td>\n",
       "    </tr>\n",
       "    <tr>\n",
       "      <th>1301</th>\n",
       "      <td>30.875</td>\n",
       "      <td>46718.16325</td>\n",
       "    </tr>\n",
       "    <tr>\n",
       "      <th>1303</th>\n",
       "      <td>27.800</td>\n",
       "      <td>37829.72420</td>\n",
       "    </tr>\n",
       "    <tr>\n",
       "      <th>1313</th>\n",
       "      <td>34.700</td>\n",
       "      <td>36397.57600</td>\n",
       "    </tr>\n",
       "    <tr>\n",
       "      <th>1317</th>\n",
       "      <td>53.130</td>\n",
       "      <td>1163.46270</td>\n",
       "    </tr>\n",
       "    <tr>\n",
       "      <th>1323</th>\n",
       "      <td>40.370</td>\n",
       "      <td>43896.37630</td>\n",
       "    </tr>\n",
       "  </tbody>\n",
       "</table>\n",
       "<p>145 rows × 2 columns</p>\n",
       "</div>"
      ],
      "text/plain": [
       "         bmi      charges\n",
       "14    42.130  39611.75770\n",
       "19    35.300  36837.46700\n",
       "23    31.920  37701.87680\n",
       "29    36.300  38711.00000\n",
       "30    35.600  35585.57600\n",
       "...      ...          ...\n",
       "1301  30.875  46718.16325\n",
       "1303  27.800  37829.72420\n",
       "1313  34.700  36397.57600\n",
       "1317  53.130   1163.46270\n",
       "1323  40.370  43896.37630\n",
       "\n",
       "[145 rows x 2 columns]"
      ]
     },
     "execution_count": 158,
     "metadata": {},
     "output_type": "execute_result"
    }
   ],
   "source": [
    "outlier"
   ]
  },
  {
   "cell_type": "code",
   "execution_count": 159,
   "id": "0b7ef29f-09ba-467c-9fcd-7bf8e2174c41",
   "metadata": {},
   "outputs": [
    {
     "data": {
      "text/plain": [
       "age           39.000\n",
       "bmi           30.400\n",
       "children       1.000\n",
       "charges     9382.033\n",
       "dtype: float64"
      ]
     },
     "execution_count": 159,
     "metadata": {},
     "output_type": "execute_result"
    }
   ],
   "source": [
    "median"
   ]
  },
  {
   "cell_type": "code",
   "execution_count": 160,
   "id": "3c7ce838-24f6-4c66-bb4b-ba371449f8a1",
   "metadata": {},
   "outputs": [
    {
     "name": "stderr",
     "output_type": "stream",
     "text": [
      "C:\\Users\\RA ELE\\AppData\\Local\\Temp\\ipykernel_13808\\2047345679.py:1: SettingWithCopyWarning: \n",
      "A value is trying to be set on a copy of a slice from a DataFrame.\n",
      "Try using .loc[row_indexer,col_indexer] = value instead\n",
      "\n",
      "See the caveats in the documentation: https://pandas.pydata.org/pandas-docs/stable/user_guide/indexing.html#returning-a-view-versus-a-copy\n",
      "  outlier['bmi'] = median['bmi']\n"
     ]
    }
   ],
   "source": [
    "outlier['bmi'] = median['bmi']"
   ]
  },
  {
   "cell_type": "code",
   "execution_count": 161,
   "id": "a48220a5-1b3c-44e2-b0a3-b8549a7f1420",
   "metadata": {},
   "outputs": [
    {
     "name": "stderr",
     "output_type": "stream",
     "text": [
      "C:\\Users\\RA ELE\\AppData\\Local\\Temp\\ipykernel_13808\\1190623989.py:1: SettingWithCopyWarning: \n",
      "A value is trying to be set on a copy of a slice from a DataFrame.\n",
      "Try using .loc[row_indexer,col_indexer] = value instead\n",
      "\n",
      "See the caveats in the documentation: https://pandas.pydata.org/pandas-docs/stable/user_guide/indexing.html#returning-a-view-versus-a-copy\n",
      "  outlier['charges'] = median['charges']\n"
     ]
    }
   ],
   "source": [
    "outlier['charges'] = median['charges']"
   ]
  },
  {
   "cell_type": "code",
   "execution_count": 162,
   "id": "d09cdcf2-2609-4542-82df-31fb912f049b",
   "metadata": {},
   "outputs": [
    {
     "data": {
      "text/html": [
       "<div>\n",
       "<style scoped>\n",
       "    .dataframe tbody tr th:only-of-type {\n",
       "        vertical-align: middle;\n",
       "    }\n",
       "\n",
       "    .dataframe tbody tr th {\n",
       "        vertical-align: top;\n",
       "    }\n",
       "\n",
       "    .dataframe thead th {\n",
       "        text-align: right;\n",
       "    }\n",
       "</style>\n",
       "<table border=\"1\" class=\"dataframe\">\n",
       "  <thead>\n",
       "    <tr style=\"text-align: right;\">\n",
       "      <th></th>\n",
       "      <th>bmi</th>\n",
       "      <th>charges</th>\n",
       "    </tr>\n",
       "  </thead>\n",
       "  <tbody>\n",
       "    <tr>\n",
       "      <th>14</th>\n",
       "      <td>30.4</td>\n",
       "      <td>9382.033</td>\n",
       "    </tr>\n",
       "    <tr>\n",
       "      <th>19</th>\n",
       "      <td>30.4</td>\n",
       "      <td>9382.033</td>\n",
       "    </tr>\n",
       "    <tr>\n",
       "      <th>23</th>\n",
       "      <td>30.4</td>\n",
       "      <td>9382.033</td>\n",
       "    </tr>\n",
       "    <tr>\n",
       "      <th>29</th>\n",
       "      <td>30.4</td>\n",
       "      <td>9382.033</td>\n",
       "    </tr>\n",
       "    <tr>\n",
       "      <th>30</th>\n",
       "      <td>30.4</td>\n",
       "      <td>9382.033</td>\n",
       "    </tr>\n",
       "    <tr>\n",
       "      <th>...</th>\n",
       "      <td>...</td>\n",
       "      <td>...</td>\n",
       "    </tr>\n",
       "    <tr>\n",
       "      <th>1301</th>\n",
       "      <td>30.4</td>\n",
       "      <td>9382.033</td>\n",
       "    </tr>\n",
       "    <tr>\n",
       "      <th>1303</th>\n",
       "      <td>30.4</td>\n",
       "      <td>9382.033</td>\n",
       "    </tr>\n",
       "    <tr>\n",
       "      <th>1313</th>\n",
       "      <td>30.4</td>\n",
       "      <td>9382.033</td>\n",
       "    </tr>\n",
       "    <tr>\n",
       "      <th>1317</th>\n",
       "      <td>30.4</td>\n",
       "      <td>9382.033</td>\n",
       "    </tr>\n",
       "    <tr>\n",
       "      <th>1323</th>\n",
       "      <td>30.4</td>\n",
       "      <td>9382.033</td>\n",
       "    </tr>\n",
       "  </tbody>\n",
       "</table>\n",
       "<p>145 rows × 2 columns</p>\n",
       "</div>"
      ],
      "text/plain": [
       "       bmi   charges\n",
       "14    30.4  9382.033\n",
       "19    30.4  9382.033\n",
       "23    30.4  9382.033\n",
       "29    30.4  9382.033\n",
       "30    30.4  9382.033\n",
       "...    ...       ...\n",
       "1301  30.4  9382.033\n",
       "1303  30.4  9382.033\n",
       "1313  30.4  9382.033\n",
       "1317  30.4  9382.033\n",
       "1323  30.4  9382.033\n",
       "\n",
       "[145 rows x 2 columns]"
      ]
     },
     "execution_count": 162,
     "metadata": {},
     "output_type": "execute_result"
    }
   ],
   "source": [
    "outlier"
   ]
  },
  {
   "cell_type": "code",
   "execution_count": null,
   "id": "58159d29-9654-43a1-8590-fdd2574c364d",
   "metadata": {},
   "outputs": [],
   "source": []
  }
 ],
 "metadata": {
  "kernelspec": {
   "display_name": "Python 3 (ipykernel)",
   "language": "python",
   "name": "python3"
  },
  "language_info": {
   "codemirror_mode": {
    "name": "ipython",
    "version": 3
   },
   "file_extension": ".py",
   "mimetype": "text/x-python",
   "name": "python",
   "nbconvert_exporter": "python",
   "pygments_lexer": "ipython3",
   "version": "3.9.8"
  }
 },
 "nbformat": 4,
 "nbformat_minor": 5
}
